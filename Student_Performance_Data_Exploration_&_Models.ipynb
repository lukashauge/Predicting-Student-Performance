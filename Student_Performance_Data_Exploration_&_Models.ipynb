{
  "nbformat": 4,
  "nbformat_minor": 0,
  "metadata": {
    "colab": {
      "provenance": [],
      "collapsed_sections": [],
      "authorship_tag": "ABX9TyN45uI/dinWLqtl4Y3SmGBW"
    },
    "kernelspec": {
      "name": "python3",
      "display_name": "Python 3"
    },
    "language_info": {
      "name": "python"
    }
  },
  "cells": [
    {
      "cell_type": "code",
      "execution_count": 4,
      "metadata": {
        "id": "wyI9Cwz-As9q"
      },
      "outputs": [],
      "source": [
        "# This file is used for data exploration as well as the actual model.\n",
        "# The code for the model can be found in the later half of this file.\n",
        "# Coded with Google Colaboratory.\n",
        "\n",
        "import time\n",
        "import itertools\n",
        "import pandas as pd\n",
        "import matplotlib.pyplot as plt\n",
        "import seaborn as sns\n",
        "import numpy as np\n",
        "import statsmodels.api as sm\n",
        "from scipy.stats import norm\n",
        "from sklearn.preprocessing import StandardScaler\n",
        "from scipy import stats\n",
        "import warnings\n",
        "\n",
        "warnings.filterwarnings('ignore')\n",
        "%matplotlib inline"
      ]
    },
    {
      "cell_type": "code",
      "source": [
        "#import file from Google Drive\n",
        "from google.colab import drive\n",
        "drive.mount('/content/drive')\n",
        "\n",
        "df_train = pd.read_csv('/content/drive/MyDrive/Projects/Data/Student Performance/student_data.csv', header=0)\n",
        "#df_train = pd.read_csv('student_data.csv', header=0)"
      ],
      "metadata": {
        "colab": {
          "base_uri": "https://localhost:8080/"
        },
        "id": "RjTNiflaBN2e",
        "outputId": "db611b34-8844-416d-904d-c4880d064e34"
      },
      "execution_count": 5,
      "outputs": [
        {
          "output_type": "stream",
          "name": "stdout",
          "text": [
            "Drive already mounted at /content/drive; to attempt to forcibly remount, call drive.mount(\"/content/drive\", force_remount=True).\n"
          ]
        }
      ]
    },
    {
      "cell_type": "code",
      "source": [
        "#Change categorical data to numeric\n",
        "df_train['school'].replace(to_replace=['GP', 'MS'], value=[0, 1], inplace=True)\n",
        "df_train['sex'].replace(to_replace=['M', 'F'], value=[0, 1], inplace=True)\n",
        "df_train['famsize'].replace(to_replace=['GT3', 'LE3'], value=[0, 1], inplace=True)\n",
        "df_train['Mjob'].replace(to_replace=['at_home', 'health', 'other', 'services', 'teacher'], value=[0, 1, 2, 3, 4], inplace=True)\n",
        "df_train['Fjob'].replace(to_replace=['at_home', 'health', 'other', 'services', 'teacher'], value=[0, 1, 2, 3, 4], inplace=True)\n",
        "df_train['Pstatus'].replace(to_replace=['A', 'T'], value=[0, 1], inplace=True)\n",
        "df_train['address'].replace(to_replace=['U', 'R'], value=[0, 1], inplace=True)\n",
        "df_train['reason'].replace(to_replace=['course', 'other', 'home', 'reputation'], value=[0, 1, 2, 3], inplace=True)\n",
        "df_train['guardian'].replace(to_replace=['mother', 'father', 'other'], value=[0, 1, 2], inplace=True)\n",
        "df_train['schoolsup'].replace(to_replace=['no', 'yes'], value=[0, 1], inplace=True)\n",
        "df_train['famsup'].replace(to_replace=['no', 'yes'], value=[0, 1], inplace=True)\n",
        "df_train['paid'].replace(to_replace=['no', 'yes'], value=[0, 1], inplace=True)\n",
        "df_train['activities'].replace(to_replace=['no', 'yes'], value=[0, 1], inplace=True)\n",
        "df_train['nursery'].replace(to_replace=['no', 'yes'], value=[0, 1], inplace=True)\n",
        "df_train['higher'].replace(to_replace=['no', 'yes'], value=[0, 1], inplace=True)\n",
        "df_train['internet'].replace(to_replace=['no', 'yes'], value=[0, 1], inplace=True)\n",
        "df_train['romantic'].replace(to_replace=['no', 'yes'], value=[0, 1], inplace=True)\n",
        "\n",
        "#Create new data set with enumerated values\n",
        "train = df_train[['sex', 'famsize', 'Mjob', 'Fjob', 'guardian',\n",
        "                  'paid', 'activities', 'internet', 'Medu', 'Fedu', 'studytime', 'failures', \n",
        "                  'famrel', 'health', 'absences', 'G1', 'G2', 'G3']]\n",
        "\n",
        "#Check if all data is numerical\n",
        "for col in df_train:\n",
        "  print(col, \": \", df_train[col].unique())"
      ],
      "metadata": {
        "colab": {
          "base_uri": "https://localhost:8080/"
        },
        "id": "0PC6GML_A_xc",
        "outputId": "7a7e4bc0-ebbe-4756-93d7-d6b1e93e5d10"
      },
      "execution_count": 6,
      "outputs": [
        {
          "output_type": "stream",
          "name": "stdout",
          "text": [
            "school :  [0 1]\n",
            "sex :  [1 0]\n",
            "age :  [18 17 15 16 19 22 20 21]\n",
            "address :  [0 1]\n",
            "famsize :  [0 1]\n",
            "Pstatus :  [0 1]\n",
            "Medu :  [4 1 3 2 0]\n",
            "Fedu :  [4 1 2 3 0]\n",
            "Mjob :  [0 1 2 3 4]\n",
            "Fjob :  [4 2 3 1 0]\n",
            "reason :  [0 1 2 3]\n",
            "guardian :  [0 1 2]\n",
            "traveltime :  [2 1 3 4]\n",
            "studytime :  [2 3 1 4]\n",
            "failures :  [0 3 2 1]\n",
            "schoolsup :  [1 0]\n",
            "famsup :  [0 1]\n",
            "paid :  [0 1]\n",
            "activities :  [0 1]\n",
            "nursery :  [1 0]\n",
            "higher :  [1 0]\n",
            "internet :  [0 1]\n",
            "romantic :  [0 1]\n",
            "famrel :  [4 5 3 1 2]\n",
            "freetime :  [3 2 4 1 5]\n",
            "goout :  [4 3 2 1 5]\n",
            "Dalc :  [1 2 5 3 4]\n",
            "Walc :  [1 3 2 4 5]\n",
            "health :  [3 5 1 2 4]\n",
            "absences :  [ 6  4 10  2  0 16 14  7  8 25 12 54 18 26 20 56 24 28  5 13 15 22  3 21\n",
            "  1 75 30 19  9 11 38 40 23 17]\n",
            "G1 :  [ 5  7 15  6 12 16 14 10 13  8 11  9 17 19 18  4  3]\n",
            "G2 :  [ 6  5  8 14 10 15 12 18 16 13  9 11  7 19 17  4  0]\n",
            "G3 :  [ 6 10 15 11 19  9 12 14 16  5  8 17 18 13 20  7  0  4]\n"
          ]
        }
      ]
    },
    {
      "cell_type": "code",
      "source": [
        "#Check correlation\n",
        "matrix = train.corr()\n",
        "f, ax = plt.subplots(figsize=(16, 16))\n",
        "sns.heatmap(matrix, vmax=.8, vmin=-.8, square=True, xticklabels=True, yticklabels=True)"
      ],
      "metadata": {
        "colab": {
          "base_uri": "https://localhost:8080/",
          "height": 928
        },
        "id": "4pRBLs-vBmXz",
        "outputId": "0e7572e3-e864-4ebc-c262-fee68f668039"
      },
      "execution_count": 7,
      "outputs": [
        {
          "output_type": "execute_result",
          "data": {
            "text/plain": [
              "<matplotlib.axes._subplots.AxesSubplot at 0x7fccf1bc5690>"
            ]
          },
          "metadata": {},
          "execution_count": 7
        },
        {
          "output_type": "display_data",
          "data": {
            "text/plain": [
              "<Figure size 1152x1152 with 2 Axes>"
            ],
            "image/png": "[encoded data removed]"
          },
          "metadata": {
            "needs_background": "light"
          }
        }
      ]
    },
    {
      "cell_type": "code",
      "source": [
        "#Create prediction set with G3 column and drop G1, G2, and G3 from feature set\n",
        "y = train[['G3']]\n",
        "y.G3 = y.G3.astype(float).fillna(0.0)\n",
        "X = train.drop(['G3', 'G2', 'G1'], axis=1)\n",
        "\n",
        "# Check prediction and feature set\n",
        "print(\"Feature set\")\n",
        "print(X.head())\n",
        "print(X.shape)\n",
        "print(\"Prediction\")\n",
        "print(y.head())\n",
        "print(y.shape)"
      ],
      "metadata": {
        "colab": {
          "base_uri": "https://localhost:8080/"
        },
        "id": "WIt4AiTJB8mA",
        "outputId": "94bf53fc-6c0a-4edb-d597-4f2225f06d77"
      },
      "execution_count": 8,
      "outputs": [
        {
          "output_type": "stream",
          "name": "stdout",
          "text": [
            "Feature set\n",
            "   sex  famsize  Mjob  Fjob  guardian  paid  activities  internet  Medu  Fedu  \\\n",
            "0    1        0     0     4         0     0           0         0     4     4   \n",
            "1    1        0     0     2         1     0           0         1     1     1   \n",
            "2    1        1     0     2         0     1           0         1     1     1   \n",
            "3    1        0     1     3         0     1           1         1     4     2   \n",
            "4    1        0     2     2         1     1           0         0     3     3   \n",
            "\n",
            "   studytime  failures  famrel  health  absences  \n",
            "0          2         0       4       3         6  \n",
            "1          2         0       5       3         4  \n",
            "2          2         3       4       3        10  \n",
            "3          3         0       3       5         2  \n",
            "4          2         0       4       5         4  \n",
            "(395, 15)\n",
            "Prediction\n",
            "     G3\n",
            "0   6.0\n",
            "1   6.0\n",
            "2  10.0\n",
            "3  15.0\n",
            "4  10.0\n",
            "(395, 1)\n"
          ]
        }
      ]
    },
    {
      "cell_type": "code",
      "source": [
        "#Fit model on feature_set and calculate RSS with OLS model\n",
        "def process(feature_set):\n",
        "  model = sm.OLS(y,X[list(feature_set)])\n",
        "  regr = model.fit()\n",
        "  predictions = regr.predict(X[list(feature_set)])\n",
        "  RSS = 0\n",
        "  for pred, true_y in zip(predictions, y['G3'].tolist()):\n",
        "    RSS += (pred - true_y)**2\n",
        "  return {\"model\":regr, \"RSS\":RSS}"
      ],
      "metadata": {
        "id": "ZS1OYZWlCcql"
      },
      "execution_count": 9,
      "outputs": []
    },
    {
      "cell_type": "code",
      "source": [
        "#Returns the model with least RSS\n",
        "def getBest(k):\n",
        "    \n",
        "    tic = time.time()\n",
        "    \n",
        "    results = []\n",
        "    \n",
        "    for combo in itertools.combinations(X.columns, k):\n",
        "        results.append(process(combo))\n",
        "    \n",
        "    #Wrap everything up in a nice dataframe\n",
        "    models = pd.DataFrame(results)\n",
        "    \n",
        "    #Choose the model with the lowest RSS\n",
        "    best_model = models.loc[models['RSS'].argmin()]\n",
        "    \n",
        "    toc = time.time()\n",
        "    print(\"Processed\", models.shape[0], \"models on\", k, \"predictors in\", (toc-tic), \"seconds.\")\n",
        "    \n",
        "    #Return the best model, along with some other useful information about the model\n",
        "    return best_model"
      ],
      "metadata": {
        "id": "Hzl0XVotCtDZ"
      },
      "execution_count": 10,
      "outputs": []
    },
    {
      "cell_type": "code",
      "source": [
        "#Record best models for each # of features\n",
        "models_best = pd.DataFrame(columns=[\"RSS\", \"model\"])\n",
        "\n",
        "tic = time.time()\n",
        "for i in range(1,X.shape[1]):\n",
        "    models_best.loc[i] = getBest(i)\n",
        "\n",
        "toc = time.time()\n",
        "print(\"Total elapsed time:\", (toc-tic), \"seconds.\")"
      ],
      "metadata": {
        "colab": {
          "base_uri": "https://localhost:8080/"
        },
        "id": "3Zy3zwanDDHk",
        "outputId": "97d81998-867c-475e-f95b-c0dfbdca3d28"
      },
      "execution_count": 8,
      "outputs": [
        {
          "output_type": "stream",
          "name": "stdout",
          "text": [
            "Processed 15 models on 1 predictors in 0.14034032821655273 seconds.\n",
            "Processed 105 models on 2 predictors in 1.1981844902038574 seconds.\n",
            "Processed 455 models on 3 predictors in 1.3415935039520264 seconds.\n",
            "Processed 1365 models on 4 predictors in 2.7880871295928955 seconds.\n",
            "Processed 3003 models on 5 predictors in 6.4606242179870605 seconds.\n",
            "Processed 5005 models on 6 predictors in 11.305251836776733 seconds.\n",
            "Processed 6435 models on 7 predictors in 14.291786432266235 seconds.\n",
            "Processed 6435 models on 8 predictors in 14.376900434494019 seconds.\n",
            "Processed 5005 models on 9 predictors in 11.236593961715698 seconds.\n",
            "Processed 3003 models on 10 predictors in 11.38060450553894 seconds.\n",
            "Processed 1365 models on 11 predictors in 5.498457908630371 seconds.\n",
            "Processed 455 models on 12 predictors in 1.0906412601470947 seconds.\n",
            "Processed 105 models on 13 predictors in 0.2672557830810547 seconds.\n",
            "Processed 15 models on 14 predictors in 0.04562783241271973 seconds.\n",
            "Total elapsed time: 81.95347476005554 seconds.\n"
          ]
        }
      ]
    },
    {
      "cell_type": "code",
      "source": [
        "#Create graph to visualize # of features and RSS correlation\n",
        "num_vars = [i for i in range(1, X.shape[1])] \n",
        "plt.title(\"# Variables v. RSS\")\n",
        "plt.xlabel('# Variables')\n",
        "plt.ylabel('RSS')\n",
        "plt.plot(num_vars, models_best['RSS'], marker='p', color='b', linestyle='--')"
      ],
      "metadata": {
        "colab": {
          "base_uri": "https://localhost:8080/",
          "height": 312
        },
        "id": "BYxVwptJDTSA",
        "outputId": "ee005bff-b257-4b3f-d01b-0eddf791af45"
      },
      "execution_count": 9,
      "outputs": [
        {
          "output_type": "execute_result",
          "data": {
            "text/plain": [
              "[<matplotlib.lines.Line2D at 0x7fd819836190>]"
            ]
          },
          "metadata": {},
          "execution_count": 9
        },
        {
          "output_type": "display_data",
          "data": {
            "text/plain": [
              "<Figure size 432x288 with 1 Axes>"
            ],
            "image/png": "[encoded data removed]"
          },
          "metadata": {
            "needs_background": "light"
          }
        }
      ]
    },
    {
      "cell_type": "code",
      "source": [
        "# The following are baseline regression models that are used to compare with the\n",
        "# eventual classification neural network model\n",
        "\n",
        "#Return mean squared error and accuracy\n",
        "def mseAndAcc(y_pred, y_test):\n",
        "  mse = 0\n",
        "  correct = 0\n",
        "  for y_p, y_actual in zip(y_pred, y_test):\n",
        "    mse += (int(y_p) - int(y_actual))**2\n",
        "    if int(y_p) == int(y_actual): correct += 1\n",
        "  return [mse, int(correct/len(y_test)*100)]"
      ],
      "metadata": {
        "id": "78lOqVPcNfXn"
      },
      "execution_count": 11,
      "outputs": []
    },
    {
      "cell_type": "code",
      "source": [
        "#Baseline MLP Regressor Model\n",
        "from sklearn.neural_network import MLPRegressor\n",
        "from sklearn.model_selection import train_test_split\n",
        "\n",
        "X_train, X_test, y_train, y_test = train_test_split(X, y, random_state=1)\n",
        "y_test = np.array(y_test)\n",
        "regr = MLPRegressor(random_state=1, max_iter=500).fit(X_train, y_train)\n",
        "\n",
        "#Print MSE and Accuracy\n",
        "y_pred = regr.predict(X_test)\n",
        "result = mseAndAcc(y_pred, y_test)\n",
        "print(\"MSE:\", result[0])\n",
        "print(\"Accuracy %:\", result[1])"
      ],
      "metadata": {
        "colab": {
          "base_uri": "https://localhost:8080/"
        },
        "id": "2kAOgJM1QlXt",
        "outputId": "f7ae9cd8-95d3-4bc3-b7cb-c7648f545513"
      },
      "execution_count": 13,
      "outputs": [
        {
          "output_type": "stream",
          "name": "stdout",
          "text": [
            "MSE: 1738\n",
            "Accuracy %: 12\n"
          ]
        }
      ]
    },
    {
      "cell_type": "code",
      "source": [
        "#Baseline Linear Model\n",
        "from sklearn import linear_model\n",
        "reg = linear_model.Ridge(alpha=.5)\n",
        "reg.fit(X_train, y_train)\n",
        "\n",
        "#Print MSE and Accuracy\n",
        "y_pred = reg.predict(X_test)\n",
        "result = mseAndAcc(y_pred, y_test)\n",
        "print(\"MSE:\", result[0])\n",
        "print(\"Accuracy %:\", result[1])"
      ],
      "metadata": {
        "colab": {
          "base_uri": "https://localhost:8080/"
        },
        "id": "VACu4wRLQyqL",
        "outputId": "b8c7e306-127a-414f-bf66-5cf1795b02ce"
      },
      "execution_count": 12,
      "outputs": [
        {
          "output_type": "stream",
          "name": "stdout",
          "text": [
            "MSE: 1686\n",
            "Accuracy %: 14\n"
          ]
        }
      ]
    },
    {
      "cell_type": "code",
      "source": [
        "#Baseline Lasso Model\n",
        "from sklearn import linear_model\n",
        "regression = linear_model.Lasso(alpha=0.1)\n",
        "regression.fit(X_train, y_train)\n",
        "\n",
        "#Print MSE and Accuracy\n",
        "y_pred = regression.predict(X_test)\n",
        "result = mseAndAcc(y_pred, y_test)\n",
        "print(\"MSE:\", result[0])\n",
        "print(\"Accuracy %:\", result[1])"
      ],
      "metadata": {
        "colab": {
          "base_uri": "https://localhost:8080/"
        },
        "id": "5bE8tofVXgXm",
        "outputId": "b76e06e0-1522-42d5-d00c-8f693922fc44"
      },
      "execution_count": 13,
      "outputs": [
        {
          "output_type": "stream",
          "name": "stdout",
          "text": [
            "MSE: 1598\n",
            "Accuracy %: 18\n"
          ]
        }
      ]
    },
    {
      "cell_type": "code",
      "source": [
        "#Baseline Random Forest Model\n",
        "from sklearn.ensemble import RandomForestRegressor\n",
        "\n",
        "#Fit Random Forest\n",
        "forest = RandomForestRegressor(max_depth=3, random_state=0)\n",
        "forest.fit(X_train, y_train)\n",
        "\n",
        "#Print MSE and Accuracy\n",
        "result = mseAndAcc(y_pred, y_test)\n",
        "print(\"MSE:\", result[0])\n",
        "print(\"Accuracy %:\", result[1])"
      ],
      "metadata": {
        "colab": {
          "base_uri": "https://localhost:8080/"
        },
        "id": "waOBSLeqXoPW",
        "outputId": "470f546f-9146-410c-fe41-4f2a190d05a8"
      },
      "execution_count": 15,
      "outputs": [
        {
          "output_type": "stream",
          "name": "stdout",
          "text": [
            "MSE: 3996\n",
            "Accuracy %: 20\n"
          ]
        }
      ]
    },
    {
      "cell_type": "code",
      "source": [
        "#\n",
        "# Neural Network Classification Model\n",
        "#"
      ],
      "metadata": {
        "id": "lrMJwq7dVqFG"
      },
      "execution_count": null,
      "outputs": []
    },
    {
      "cell_type": "code",
      "source": [
        "#split up values\n",
        "x_train, x_test, y_train, y_test = train_test_split(X, y, random_state=1)\n",
        "\n",
        "y_test = np.array(y_test)\n",
        "y_train = np.array(y_train)\n",
        "x_test = np.array(x_test).T\n",
        "x_train = np.array(x_train).T\n",
        "\n",
        "m, n = x_train.shape"
      ],
      "metadata": {
        "id": "AOcHL4JBWHpg"
      },
      "execution_count": 14,
      "outputs": []
    },
    {
      "cell_type": "code",
      "source": [
        "#activation functions\n",
        "def ReLU(z):\n",
        "  des = []\n",
        "  for val in z:\n",
        "    temp = []\n",
        "    for v in val:\n",
        "      temp.append(max(0, v))\n",
        "    des.append(temp)\n",
        "  return np.array(des)\n",
        "\n",
        "def softMax(x):\n",
        "  des = []\n",
        "  for val in x:\n",
        "    e_x = np.exp(val - np.max(val))\n",
        "    des.append(e_x / e_x.sum(axis=0))\n",
        "  return np.array(des)\n",
        "\n",
        "#derivative of ReLU activation function\n",
        "def deriv_ReLU(z):\n",
        "  des = []\n",
        "  for val in z:\n",
        "    temp = []\n",
        "    for v in val:\n",
        "      if v > 0: temp.append(1)\n",
        "      else: temp.append(0)\n",
        "    des.append(temp)\n",
        "  return np.array(des)"
      ],
      "metadata": {
        "id": "orcbHkeGVt9a"
      },
      "execution_count": 15,
      "outputs": []
    },
    {
      "cell_type": "code",
      "source": [
        "#initialize random weights and biases\n",
        "def init_params(n_nodes):\n",
        "  w1 = np.random.randn(15, n_nodes)\n",
        "  b1 = np.random.randn(1, n_nodes)\n",
        "  w2 = np.random.randn(n_nodes, 21)\n",
        "  b2 = np.random.randn(1, 21)\n",
        "  return w1, b1, w2, b2\n",
        "\n",
        "#forward propagation\n",
        "def forward_prop(w1, b1, w2, b2, x):\n",
        "  z1 = np.dot(x.T, w1) + b1 \n",
        "  a1 = ReLU(z1)\n",
        "  z2 = np.dot(a1, w2) + b2\n",
        "  a2 = softMax(z2)\n",
        "  return z1, a1, z2, a2\n",
        "\n",
        "#one hot function\n",
        "def one_hot(y):\n",
        "  one_hot_y = np.zeros((y.size, int(y.max()) + 1))\n",
        "  for i, yy in enumerate(y):\n",
        "    index = int(yy[0])\n",
        "    one_hot_y[i][index] = 1\n",
        "  return one_hot_y.T\n",
        "\n",
        "#backward propagation\n",
        "def back_prop(z1, a1, z2, a2, w2, x, y):\n",
        "  dz2 = a2.T - one_hot(y)\n",
        "  dw2 = 1 / n * dz2.dot(a1)\n",
        "  db2 = 1 / n * np.sum(dz2, axis=1)\n",
        "  dz1 = w2.dot(dz2) * deriv_ReLU(z1.T)\n",
        "  dw1 = 1 / n * dz1.dot(x.T)\n",
        "  db1 = 1 / n * np.sum(dz1, axis=1)\n",
        "  return dw1.T, np.array([db1]), dw2.T, np.array([db2])\n",
        "\n",
        "def update_params(w1, b1, w2, b2, dw1, db1, dw2, db2, alpha):\n",
        "  w1 = w1 - alpha * dw1\n",
        "  b1 = b1 - alpha * db1\n",
        "  w2 = w2 - alpha * dw2\n",
        "  b2 = b2 - alpha * db2\n",
        "  return w1, b1, w2, b2\n",
        "\n",
        "def get_predictions(a2):\n",
        "  preds = []\n",
        "  for value in a2:\n",
        "    value = list(value)\n",
        "    max_value = max(value)\n",
        "    max_index = value.index(max_value)\n",
        "    preds.append([max_index])\n",
        "  return np.array(preds)\n",
        "\n",
        "def get_accuracy(predictions, y):\n",
        "  correct = 0\n",
        "  for a, b in zip(predictions, y):\n",
        "    if abs(int(a[0]) - int(b[0])) <= 0: correct += 1\n",
        "  return correct/len(y)\n",
        "\n",
        "def get_rss(predictions, y):\n",
        "  RSS = 0\n",
        "  for a, b in zip(predictions, y):\n",
        "    RSS += (a - b) ** 2\n",
        "  return RSS"
      ],
      "metadata": {
        "id": "Q2cQUxA5Vu--"
      },
      "execution_count": 33,
      "outputs": []
    },
    {
      "cell_type": "code",
      "source": [
        "#Gradient descent for optimizing weights and biases. Parameters: x, y, # of iterations, learning rate \"alpha\", # of nodes in hidden layer\n",
        "def gradient_descent(x, y, iter, alpha, n_nodes):\n",
        "  iteration, accuracy, rss = [], [], []\n",
        "  w1, b1, w2, b2 = init_params(n_nodes)\n",
        "  for i in range(iter):\n",
        "    z1, a1, z2, a2 = forward_prop(w1, b1, w2, b2, x_train)\n",
        "    dw1, db1, dw2, db2 = back_prop(z1, a1, z2, a2, w2, x, y)\n",
        "    w1, b1, w2, b2 = update_params(w1, b1, w2, b2, dw1, db1, dw2, db2, alpha)\n",
        "    acc = get_accuracy(get_predictions(a2), y)\n",
        "    rss_value = get_rss(get_predictions(a2), y)\n",
        "    #print training data accuracy every 500 iterations\n",
        "    if (i%500 == 0):\n",
        "      pass\n",
        "      \"\"\"\n",
        "      print(\"Iteration:\", i)\n",
        "      print(\"Accuracy:\", acc)\n",
        "      print(\"RSS:\", rss_value)\n",
        "      \"\"\"\n",
        "    iteration.append(i)\n",
        "    accuracy.append(acc)\n",
        "    rss.append(rss_value)\n",
        "  return w1, b1, w2, b2, iteration, accuracy, rss\n",
        "\n",
        "w1, b1, w2, b2, iteration, accuracy, rss = gradient_descent(x_train, y_train, 2000, 0.1, 100)"
      ],
      "metadata": {
        "id": "i1wxncknWScX"
      },
      "execution_count": 50,
      "outputs": []
    },
    {
      "cell_type": "code",
      "source": [
        "#Plot stats visually\n",
        "def plot_data(x, x_name, y, y_name, n_nodes, figure, ylim):\n",
        "  plt.figure(figure)\n",
        "  plt.title(y_name + \" over \" + x_name + \" (\"+str(n_nodes)+\" nodes)\")\n",
        "  plt.xlabel(x_name)\n",
        "  plt.ylabel(y_name)\n",
        "\n",
        "  ax = plt.gca()\n",
        "  ax.set_ylim([0, ylim])\n",
        "\n",
        "  plt.plot(x, y, linestyle='dashed', marker='o', color='red', markerfacecolor='red', markersize=1)\n",
        "\n",
        "plot_data(iteration, \"Iterations\", accuracy, \"Accuracy\", 2000, 0, 1)\n",
        "plot_data(iteration, \"Iterations\", rss, \"RSS\", 2000, 1, 12000)"
      ],
      "metadata": {
        "colab": {
          "base_uri": "https://localhost:8080/",
          "height": 573
        },
        "id": "z2JVuMgLWsRn",
        "outputId": "ecc3cbf8-b502-4377-afb0-359ab73c3235"
      },
      "execution_count": 51,
      "outputs": [
        {
          "output_type": "display_data",
          "data": {
            "text/plain": [
              "<Figure size 432x288 with 1 Axes>"
            ],
            "image/png": "[encoded data removed]"
          },
          "metadata": {
            "needs_background": "light"
          }
        },
        {
          "output_type": "display_data",
          "data": {
            "text/plain": [
              "<Figure size 432x288 with 1 Axes>"
            ],
            "image/png": "[encoded data removed]"
          },
          "metadata": {
            "needs_background": "light"
          }
        }
      ]
    },
    {
      "cell_type": "code",
      "source": [
        "#Show Confusion Matrix\n",
        "from sklearn import metrics\n",
        "\n",
        "def confusion_matrix(actual, predicted):\n",
        "  act = []\n",
        "  pred = []\n",
        "  for i in actual:\n",
        "    act.append(int(i))\n",
        "  for i in predicted:\n",
        "    pred.append(int(i))\n",
        "  act = np.array(act)\n",
        "  pred = np.array(pred)\n",
        "  cm = metrics.confusion_matrix(actual, predicted)\n",
        "  cm_display = metrics.ConfusionMatrixDisplay(confusion_matrix = cm)\n",
        "  cm_display.plot()\n",
        "  plt.show()"
      ],
      "metadata": {
        "id": "ANh5PLjLW9YU"
      },
      "execution_count": 41,
      "outputs": []
    },
    {
      "cell_type": "code",
      "source": [
        "#Test on testing data\n",
        "def checkPredictions(w1, b1, w2, b2, x_test, y_test):\n",
        "  z1 = x_test.T.dot(w1) + b1\n",
        "  a1 = ReLU(z1)\n",
        "  z2 = np.dot(a1, w2) + b2\n",
        "  a2 = softMax(z2)\n",
        "  #print(y_test.flatten())\n",
        "  #print(get_predictions(a2).flatten())\n",
        "  #confusion_matrix(y_test.flatten(), get_predictions(a2).flatten())\n",
        "  return get_accuracy(get_predictions(a2), y_test)\n",
        "\n",
        "accuracy= checkPredictions(w1, b1, w2, b2, x_test, y_test)\n",
        "print(accuracy)"
      ],
      "metadata": {
        "colab": {
          "base_uri": "https://localhost:8080/"
        },
        "id": "ynxGbg5rXMTZ",
        "outputId": "571cd4ee-fafb-4f31-8057-059d32265f0d"
      },
      "execution_count": 54,
      "outputs": [
        {
          "output_type": "stream",
          "name": "stdout",
          "text": [
            "0.1414141414141414\n"
          ]
        }
      ]
    },
    {
      "cell_type": "code",
      "source": [
        "#Functions to check the results of differing values for # of hidden layer nodes and size of learning rate \"alpha\"\n",
        "\n",
        "#checks results of differing alphas for 2000 iterations with 50 nodes\n",
        "def check_all_alphas():\n",
        "  for i in range(5):\n",
        "    alpha = (i+1)/20.0\n",
        "    w1, b1, w2, b2, iteration, accuracy, rss = gradient_descent(x_train, y_train, 2000, alpha, 50)\n",
        "    print(str(alpha)+\" alpha:\", accuracy[-1]*100, \"% accurate\")\n",
        "    print(\"Accuracy on test data:\", checkPredictions(w1, b1, w2, b2, x_test, y_test)*100, \"%\\n\")\n",
        "\n",
        "#checks results of differing # of nodes for 2000 iterations with learning rate of 0.1\n",
        "def check_all_nodes():\n",
        "  for i in range(5):\n",
        "    n_nodes = (i+1)*25\n",
        "    w1, b1, w2, b2, iteration, accuracy, rss = gradient_descent(x_train, y_train, 2000, 0.1, n_nodes)\n",
        "    print(str(n_nodes)+\" nodes:\", accuracy[-1]*100, \"% accurate on training data\")\n",
        "    print(\"Accuracy on test data:\", checkPredictions(w1, b1, w2, b2, x_test, y_test)*100, \"%\\n\")"
      ],
      "metadata": {
        "id": "bEYA-S3zXOgk"
      },
      "execution_count": 63,
      "outputs": []
    },
    {
      "cell_type": "code",
      "source": [
        "#Run to check accuracy with different nodes\n",
        "check_all_nodes()"
      ],
      "metadata": {
        "colab": {
          "base_uri": "https://localhost:8080/"
        },
        "id": "lAKmtMiSemjD",
        "outputId": "b6ed2d96-c7b2-4dcd-d832-5e2b2abe51b2"
      },
      "execution_count": 61,
      "outputs": [
        {
          "output_type": "stream",
          "name": "stdout",
          "text": [
            "25 nodes\n",
            "25 nodes: 33.78378378378378 % accurate on training data\n",
            "Accuracy on test data: 20.2020202020202 %\n",
            "\n",
            "50 nodes\n",
            "50 nodes: 28.37837837837838 % accurate on training data\n",
            "Accuracy on test data: 14.14141414141414 %\n",
            "\n",
            "75 nodes\n",
            "75 nodes: 48.64864864864865 % accurate on training data\n",
            "Accuracy on test data: 18.181818181818183 %\n",
            "\n",
            "100 nodes\n",
            "100 nodes: 56.75675675675676 % accurate on training data\n",
            "Accuracy on test data: 16.161616161616163 %\n",
            "\n",
            "125 nodes\n",
            "125 nodes: 58.78378378378378 % accurate on training data\n",
            "Accuracy on test data: 14.14141414141414 %\n",
            "\n"
          ]
        }
      ]
    },
    {
      "cell_type": "code",
      "source": [
        "#Run to check accuracy with different learning rates\n",
        "check_all_alphas()"
      ],
      "metadata": {
        "colab": {
          "base_uri": "https://localhost:8080/"
        },
        "id": "vU_6xFnJoY3a",
        "outputId": "99146fab-b7ac-4d2f-a867-2c9153986d23"
      },
      "execution_count": 64,
      "outputs": [
        {
          "output_type": "stream",
          "name": "stdout",
          "text": [
            "0.05 alpha: 62.83783783783784 % accurate\n",
            "Accuracy on test data: 13.131313131313133 %\n",
            "\n",
            "0.1 alpha: 47.97297297297297 % accurate\n",
            "Accuracy on test data: 26.262626262626267 %\n",
            "\n",
            "0.15 alpha: 38.513513513513516 % accurate\n",
            "Accuracy on test data: 18.181818181818183 %\n",
            "\n",
            "0.2 alpha: 36.14864864864865 % accurate\n",
            "Accuracy on test data: 15.151515151515152 %\n",
            "\n",
            "0.25 alpha: 31.08108108108108 % accurate\n",
            "Accuracy on test data: 16.161616161616163 %\n",
            "\n"
          ]
        }
      ]
    }
  ]
}